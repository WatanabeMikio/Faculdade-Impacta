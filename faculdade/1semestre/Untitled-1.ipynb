{
 "metadata": {
  "language_info": {
   "codemirror_mode": {
    "name": "ipython",
    "version": 3
   },
   "file_extension": ".py",
   "mimetype": "text/x-python",
   "name": "python",
   "nbconvert_exporter": "python",
   "pygments_lexer": "ipython3",
   "version": "3.9.4"
  },
  "orig_nbformat": 2,
  "kernelspec": {
   "name": "python394jvsc74a57bd016108d57267beb73a23597a40ac11d62864a7bdeb04906ef635d9d7e9aee2ce1",
   "display_name": "Python 3.9.4 64-bit"
  },
  "metadata": {
   "interpreter": {
    "hash": "16108d57267beb73a23597a40ac11d62864a7bdeb04906ef635d9d7e9aee2ce1"
   }
  }
 },
 "nbformat": 4,
 "nbformat_minor": 2,
 "cells": [
  {
   "cell_type": "code",
   "execution_count": 1,
   "metadata": {},
   "outputs": [
    {
     "output_type": "stream",
     "name": "stdout",
     "text": [
      "\nA\nBB\nCCC\nDDDD\nEEEEE\n"
     ]
    }
   ],
   "source": [
    "alfabeto = ['A', 'B', 'C', 'D', 'E', 'F', 'G', 'H', 'I', 'J', 'K', 'L', 'M', 'N', 'O', 'P', 'Q', 'R', 'S', 'T', 'U', 'V', 'W', 'X', 'Y', 'Z']\n",
    "\n",
    "n = int(input('numero'))\n",
    "\n",
    "letras = 0\n",
    "linhas = 0\n",
    "\n",
    "if 1 <= n <= 26:\n",
    "    while linhas <= n:\n",
    "        letras = 0\n",
    "        while letras < linhas:\n",
    "            print(alfabeto[linhas-1], end= '')\n",
    "            letras = letras + 1\n",
    "        print('')\n",
    "        linhas = linhas + 1\n",
    "\n"
   ]
  },
  {
   "cell_type": "code",
   "execution_count": 2,
   "metadata": {},
   "outputs": [
    {
     "output_type": "stream",
     "name": "stdout",
     "text": [
      "5\n"
     ]
    }
   ],
   "source": [
    "v = [10, 20, 30, 40, 50]\n",
    "print (len(v))"
   ]
  },
  {
   "cell_type": "code",
   "execution_count": null,
   "metadata": {},
   "outputs": [],
   "source": []
  }
 ]
}